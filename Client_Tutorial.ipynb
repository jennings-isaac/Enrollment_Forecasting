{
 "cells": [
  {
   "cell_type": "markdown",
   "id": "7aac97a8-0a8a-4c27-8901-d2dc96cc9bad",
   "metadata": {},
   "source": [
    "# Course Enrollment"
   ]
  },
  {
   "cell_type": "markdown",
   "id": "d4fd3d11-5705-494b-b910-4874c4f7ba57",
   "metadata": {},
   "source": [
    "## Authors: Isaac, Conor, and Quoc"
   ]
  },
  {
   "cell_type": "markdown",
   "id": "12786562-0ac9-496a-a8c1-edf9f5598723",
   "metadata": {},
   "source": [
    "    The purpose of this notebook is to teach you, the reader, how to use the code that we have spent the past year creating. The purpose of that code is to predict course enrollment for given quarters. What that means is that you can give our code a large amount of data, which we will teach you how to format and where to put it, and the code will learn the patterns of that code and predict the number of students that will take every class for the quarters that you wish to predict."
   ]
  },
  {
   "cell_type": "code",
   "execution_count": 3,
   "id": "edba4b55-1d93-44c2-89c5-acd6a989209b",
   "metadata": {},
   "outputs": [],
   "source": [
    "# This code block contains all necessary libraries needed to run the code\n",
    "# Consult the README file to learn how to install the libraries on your machine\n",
    "import pandas as pd"
   ]
  },
  {
   "cell_type": "markdown",
   "id": "30c0e968-b1ab-41b5-8681-fbe8bc5b5b91",
   "metadata": {},
   "source": [
    "# This is the data that we use to train our model\n",
    "# Make sure your data is in this format, we got this from the Registrar's office\n",
    "base_data = pd.read_csv(\"data/base_data.csv\")\n",
    "base_data.head()"
   ]
  },
  {
   "cell_type": "code",
   "execution_count": null,
   "id": "33dc067e-20a4-4e39-ad64-3159ca635858",
   "metadata": {},
   "outputs": [],
   "source": []
  }
 ],
 "metadata": {
  "kernelspec": {
   "display_name": "Python 3 (ipykernel)",
   "language": "python",
   "name": "python3"
  },
  "language_info": {
   "codemirror_mode": {
    "name": "ipython",
    "version": 3
   },
   "file_extension": ".py",
   "mimetype": "text/x-python",
   "name": "python",
   "nbconvert_exporter": "python",
   "pygments_lexer": "ipython3",
   "version": "3.10.16"
  }
 },
 "nbformat": 4,
 "nbformat_minor": 5
}
